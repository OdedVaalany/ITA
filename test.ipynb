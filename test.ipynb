{
 "cells": [
  {
   "cell_type": "code",
   "execution_count": 17,
   "metadata": {},
   "outputs": [
    {
     "name": "stdout",
     "output_type": "stream",
     "text": [
      "-11N1,-01F,22N0\n",
      "-11N1,-10F,22N0\n",
      "-11N1,-00F,22N0\n",
      "-12N1,-13F,22N0\n",
      "-12N1,-11F,22N0\n",
      "-12N1,-01F,22N0\n",
      "-12N1,-03F,22N0\n",
      "-13N1,-03F,22N0\n",
      "-13N1,-14F,22N0\n",
      "-13N1,-04F,22N0\n",
      "-21N1,-31F,22N0\n",
      "-21N1,-11F,22N0\n",
      "-21N1,-10F,22N0\n",
      "-21N1,-30F,22N0\n",
      "-22N1,-33F,22N0\n",
      "-22N1,-11F,22N0\n",
      "-22N1,-31F,22N0\n",
      "-22N1,-13F,22N0\n",
      "-23N1,-33F,22N0\n",
      "-23N1,-13F,22N0\n",
      "-23N1,-34F,22N0\n",
      "-23N1,-14F,22N0\n",
      "-31N1,-41F,22N0\n",
      "-31N1,-30F,22N0\n",
      "-31N1,-40F,22N0\n",
      "-32N1,-33F,22N0\n",
      "-32N1,-31F,22N0\n",
      "-32N1,-43F,22N0\n",
      "-32N1,-41F,22N0\n",
      "-33N1,-43F,22N0\n",
      "-33N1,-34F,22N0\n",
      "-33N1,-44F,22N0\n"
     ]
    }
   ],
   "source": [
    "\n",
    "\n",
    "\n",
    "def get_ne(i,j):\n",
    "    return [(i+1,j),(i-1,j),(i,j+1),(i,j-1),(i+1,j+1),(i-1,j-1),(i+1,j-1),(i-1,j+1)]\n",
    "\n",
    "for i in range(1,4):\n",
    "    for j in range(1,4):\n",
    "        for negi in get_ne(i,j):\n",
    "            if negi[0] != 2 and negi[1] != 2:\n",
    "                \n",
    "                print(f'-{i}{j}N1,-{negi[0]}{negi[1]}F, 22N0')"
   ]
  }
 ],
 "metadata": {
  "kernelspec": {
   "display_name": "ITA",
   "language": "python",
   "name": "python3"
  },
  "language_info": {
   "codemirror_mode": {
    "name": "ipython",
    "version": 3
   },
   "file_extension": ".py",
   "mimetype": "text/x-python",
   "name": "python",
   "nbconvert_exporter": "python",
   "pygments_lexer": "ipython3",
   "version": "3.12.4"
  }
 },
 "nbformat": 4,
 "nbformat_minor": 2
}
